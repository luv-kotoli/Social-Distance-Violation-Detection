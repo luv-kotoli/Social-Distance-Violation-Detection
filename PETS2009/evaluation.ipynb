{
 "cells": [
  {
   "cell_type": "code",
   "execution_count": 48,
   "metadata": {},
   "outputs": [],
   "source": [
    "import numpy as np\n",
    "import h5py\n",
    "import cv2\n",
    "import matplotlib.pyplot as plt\n",
    "import pandas\n",
    "from sklearn.metrics import confusion_matrix\n",
    "from tqdm import tqdm"
   ]
  },
  {
   "cell_type": "code",
   "execution_count": 2,
   "metadata": {},
   "outputs": [],
   "source": [
    "def img_norm(img):\n",
    "    ratio = 255/(img.max()-img.min())\n",
    "    new_img = (img*ratio).astype(np.uint8)\n",
    "    #new_max = new_img.max()\n",
    "    return new_img"
   ]
  },
  {
   "cell_type": "code",
   "execution_count": 77,
   "metadata": {},
   "outputs": [],
   "source": [
    "gt_path = 'D:/PETS2009/violation_datasets/test/gp_violations.h5'\n",
    "pred_mvms_path = './MVMS_PETS2009/counting_results/counting_num_mvms.h5'\n"
   ]
  },
  {
   "cell_type": "code",
   "execution_count": 78,
   "metadata": {},
   "outputs": [],
   "source": [
    "gt = h5py.File(gt_path,'r')\n",
    "pred_mvms = h5py.File(pred_mvms_path,'r')\n"
   ]
  },
  {
   "cell_type": "code",
   "execution_count": 79,
   "metadata": {},
   "outputs": [
    {
     "name": "stdout",
     "output_type": "stream",
     "text": [
      "<KeysViewHDF5 ['density_maps', 'segment_maps']>\n",
      "<KeysViewHDF5 ['pred_dmap_gplane']>\n"
     ]
    }
   ],
   "source": [
    "print(gt.keys())\n",
    "print(pred_mvms.keys())"
   ]
  },
  {
   "cell_type": "code",
   "execution_count": 80,
   "metadata": {},
   "outputs": [],
   "source": [
    "gt_den = gt['density_maps']\n",
    "gt = gt['segment_maps']\n",
    "mvms = pred_mvms['pred_dmap_gplane']\n"
   ]
  },
  {
   "cell_type": "code",
   "execution_count": 81,
   "metadata": {},
   "outputs": [],
   "source": [
    "gt = np.array(gt).squeeze()\n",
    "mvms = np.array(mvms).squeeze()\n",
    "gt_den = np.array(gt_den).squeeze()"
   ]
  },
  {
   "cell_type": "code",
   "execution_count": 82,
   "metadata": {},
   "outputs": [
    {
     "name": "stdout",
     "output_type": "stream",
     "text": [
      "(794, 710, 610)\n",
      "(794, 177, 152)\n",
      "(794, 710, 610)\n"
     ]
    }
   ],
   "source": [
    "print(gt.shape)\n",
    "print(mvms.shape)\n",
    "print(gt_den.shape)"
   ]
  },
  {
   "cell_type": "code",
   "execution_count": 83,
   "metadata": {},
   "outputs": [],
   "source": [
    "gt_den_new = []\n",
    "for img in gt_den:\n",
    "    img = cv2.resize(img,(610,710))\n",
    "    gt_den_new.append(img)"
   ]
  },
  {
   "cell_type": "code",
   "execution_count": 88,
   "metadata": {},
   "outputs": [],
   "source": [
    "mvms_new = []\n",
    "for img in mvms:\n",
    "    img = cv2.resize(img,(610,710))\n",
    "    img = img_norm(img)\n",
    "    img[img<35] =1\n",
    "    img[img>=35] = 0\n",
    "    mvms_new.append(img)"
   ]
  },
  {
   "cell_type": "code",
   "execution_count": 60,
   "metadata": {},
   "outputs": [],
   "source": [
    "gt_den = []\n",
    "for img in gt_den:\n",
    "    img = cv2.resize(img,(610,710))\n",
    "    img = img_norm(img)\n",
    "    img[img<35] =1\n",
    "    img[img>=35] = 0\n",
    "    gt_den.append(img)"
   ]
  },
  {
   "cell_type": "code",
   "execution_count": 84,
   "metadata": {},
   "outputs": [],
   "source": [
    "gt_den = np.array(gt_den_new).squeeze()"
   ]
  },
  {
   "cell_type": "code",
   "execution_count": 85,
   "metadata": {},
   "outputs": [
    {
     "name": "stdout",
     "output_type": "stream",
     "text": [
      "(794, 710, 610)\n"
     ]
    }
   ],
   "source": [
    "print(gt_den.shape)"
   ]
  },
  {
   "cell_type": "code",
   "execution_count": 91,
   "metadata": {},
   "outputs": [
    {
     "name": "stdout",
     "output_type": "stream",
     "text": [
      "[[1 1 1 ... 1 1 1]\n",
      " [1 1 1 ... 1 1 1]\n",
      " [1 1 1 ... 1 1 1]\n",
      " ...\n",
      " [1 1 1 ... 1 1 1]\n",
      " [1 1 1 ... 1 1 1]\n",
      " [1 1 1 ... 1 1 1]]\n"
     ]
    }
   ],
   "source": [
    "print(mvms_new[0])"
   ]
  },
  {
   "cell_type": "code",
   "execution_count": 92,
   "metadata": {},
   "outputs": [
    {
     "data": {
      "text/plain": [
       "<matplotlib.image.AxesImage at 0x2cce5758850>"
      ]
     },
     "execution_count": 92,
     "metadata": {},
     "output_type": "execute_result"
    },
    {
     "data": {
      "image/png": "[encoded data removed]",
      "text/plain": [
       "<Figure size 432x288 with 1 Axes>"
      ]
     },
     "metadata": {
      "needs_background": "light"
     },
     "output_type": "display_data"
    }
   ],
   "source": [
    "plt.imshow(mvms_new[0])"
   ]
  },
  {
   "cell_type": "code",
   "execution_count": 94,
   "metadata": {},
   "outputs": [
    {
     "data": {
      "text/plain": [
       "<matplotlib.image.AxesImage at 0x2ccf860fd00>"
      ]
     },
     "execution_count": 94,
     "metadata": {},
     "output_type": "execute_result"
    },
    {
     "data": {
      "image/png": "[encoded data removed]",
      "text/plain": [
       "<Figure size 1080x1080 with 3 Axes>"
      ]
     },
     "metadata": {
      "needs_background": "light"
     },
     "output_type": "display_data"
    }
   ],
   "source": [
    "plt.figure(figsize=(15,15))\n",
    "plt.subplot(1,3,1)\n",
    "plt.title('GT segmentation map')\n",
    "plt.imshow(gt[20],cmap='gray')\n",
    "plt.subplot(1,3,2)\n",
    "plt.title('Pred segmentation map')\n",
    "plt.imshow(mvms_new[20],cmap='gray')\n",
    "plt.subplot(1,3,3)\n",
    "plt.title('Pred density map')\n",
    "plt.imshow(gt_den[20])"
   ]
  },
  {
   "cell_type": "code",
   "execution_count": 145,
   "metadata": {},
   "outputs": [],
   "source": [
    "mvms_unet_new = []\n",
    "for img in mvms_unet:\n",
    "    img[img<0.5]=0\n",
    "    img[img>0.5]=1\n",
    "    mvms_unet_new.append(img)\n",
    "    \n",
    "mvms_unet = np.array(mvms_unet_new)"
   ]
  },
  {
   "cell_type": "code",
   "execution_count": 146,
   "metadata": {},
   "outputs": [
    {
     "name": "stdout",
     "output_type": "stream",
     "text": [
      "[[1. 1. 1. ... 1. 1. 1.]\n",
      " [1. 1. 1. ... 1. 1. 1.]\n",
      " [1. 1. 1. ... 1. 1. 1.]\n",
      " ...\n",
      " [1. 1. 1. ... 1. 1. 1.]\n",
      " [1. 1. 1. ... 1. 1. 1.]\n",
      " [1. 1. 1. ... 1. 1. 1.]]\n"
     ]
    },
    {
     "data": {
      "text/plain": [
       "<matplotlib.image.AxesImage at 0x17e2cf58e20>"
      ]
     },
     "execution_count": 146,
     "metadata": {},
     "output_type": "execute_result"
    },
    {
     "data": {
      "image/png": "[encoded data removed]",
      "text/plain": [
       "<Figure size 432x288 with 1 Axes>"
      ]
     },
     "metadata": {
      "needs_background": "light"
     },
     "output_type": "display_data"
    }
   ],
   "source": [
    "print(mvms_unet[0])\n",
    "plt.imshow(mvms_unet[0].squeeze(),cmap='gray')"
   ]
  },
  {
   "cell_type": "code",
   "execution_count": 148,
   "metadata": {},
   "outputs": [],
   "source": [
    "unet_new = []\n",
    "for img in unet:\n",
    "    img[img<0.5]=0\n",
    "    img[img>0.5]=1\n",
    "    unet_new.append(img)\n",
    "    \n",
    "unet = np.array(unet_new)"
   ]
  },
  {
   "cell_type": "code",
   "execution_count": 149,
   "metadata": {},
   "outputs": [],
   "source": [
    "msunet_new = []\n",
    "for img in msunet:\n",
    "    img[img<0.5]=0\n",
    "    img[img>0.5]=1\n",
    "    msunet_new.append(img)\n",
    "    \n",
    "msunet = np.array(msunet_new)"
   ]
  },
  {
   "cell_type": "code",
   "execution_count": null,
   "metadata": {},
   "outputs": [],
   "source": []
  },
  {
   "cell_type": "code",
   "execution_count": 150,
   "metadata": {},
   "outputs": [
    {
     "name": "stdout",
     "output_type": "stream",
     "text": [
      "(200, 768, 640)\n"
     ]
    }
   ],
   "source": [
    "print(msunet.shape)"
   ]
  },
  {
   "cell_type": "code",
   "execution_count": null,
   "metadata": {},
   "outputs": [],
   "source": []
  },
  {
   "cell_type": "code",
   "execution_count": 24,
   "metadata": {},
   "outputs": [],
   "source": [
    "def pixel_acc(gt,pred):\n",
    "    acc = 0\n",
    "    recall =0\n",
    "    precision =0\n",
    "    f1 = 0\n",
    "    for i in tqdm(range(gt.shape[0])):\n",
    "        gt_i = gt[i].flatten().squeeze()\n",
    "        #print(gt_i)\n",
    "        pred_i = pred[i].flatten().squeeze()\n",
    "        [[tp,fn],[fp,tn]] = confusion_matrix(gt_i,pred_i)\n",
    "        acc_i = (tp+tn)/(tp+fn+fp+tn)\n",
    "        recall_i = tp/(tp+fn)\n",
    "        precision_i = tp/(tp+fp)\n",
    "        f1_i = 2*precision_i*recall_i/(precision_i+recall_i)\n",
    "        \n",
    "        acc += acc_i\n",
    "        recall += recall_i\n",
    "        precision += precision_i\n",
    "        f1 += f1_i\n",
    "\n",
    "    acc = acc/len(gt)\n",
    "    recall = recall/len(gt)\n",
    "    precision = precision /len(gt)\n",
    "    f1 = f1/len(gt)\n",
    "    return acc,recall,precision,f1\n"
   ]
  },
  {
   "cell_type": "code",
   "execution_count": 177,
   "metadata": {},
   "outputs": [
    {
     "name": "stderr",
     "output_type": "stream",
     "text": [
      "100%|████████████████████████████████████████████████████████████████████████████████| 200/200 [00:41<00:00,  4.80it/s]\n"
     ]
    }
   ],
   "source": [
    "acc,recall,precision,f1 = pixel_acc(gt,mvms)"
   ]
  },
  {
   "cell_type": "code",
   "execution_count": 178,
   "metadata": {},
   "outputs": [
    {
     "name": "stdout",
     "output_type": "stream",
     "text": [
      "0.9613593444824222 0.5498640244155293 0.6935691479067639 0.6051788350291889\n"
     ]
    }
   ],
   "source": [
    "print(acc,recall,precision,f1)"
   ]
  },
  {
   "cell_type": "code",
   "execution_count": 179,
   "metadata": {},
   "outputs": [
    {
     "name": "stderr",
     "output_type": "stream",
     "text": [
      "100%|████████████████████████████████████████████████████████████████████████████████| 200/200 [02:55<00:00,  1.14it/s]\n"
     ]
    }
   ],
   "source": [
    "acc,recall,precision,f1 = pixel_acc(gt,mvms_unet)"
   ]
  },
  {
   "cell_type": "code",
   "execution_count": 180,
   "metadata": {},
   "outputs": [
    {
     "name": "stdout",
     "output_type": "stream",
     "text": [
      "0.9602390238444011 0.5625729894506474 0.6605925259226634 0.5992470394234416\n"
     ]
    }
   ],
   "source": [
    "print(acc,recall,precision,f1)"
   ]
  },
  {
   "cell_type": "code",
   "execution_count": 175,
   "metadata": {},
   "outputs": [
    {
     "name": "stderr",
     "output_type": "stream",
     "text": [
      "100%|████████████████████████████████████████████████████████████████████████████████| 200/200 [02:56<00:00,  1.13it/s]\n"
     ]
    }
   ],
   "source": [
    "acc,recall,precision,f1 = pixel_acc(gt,unet)"
   ]
  },
  {
   "cell_type": "code",
   "execution_count": 176,
   "metadata": {},
   "outputs": [
    {
     "name": "stdout",
     "output_type": "stream",
     "text": [
      "0.9608267008463539 0.563018802777009 0.6682100038615679 0.6030940796291762\n"
     ]
    }
   ],
   "source": [
    "print(acc,recall,precision,f1)"
   ]
  },
  {
   "cell_type": "code",
   "execution_count": 43,
   "metadata": {},
   "outputs": [],
   "source": [
    "mvms = np.array(mvms,'b')"
   ]
  },
  {
   "cell_type": "code",
   "execution_count": 44,
   "metadata": {},
   "outputs": [],
   "source": [
    "gt = np.array(gt,'b')"
   ]
  },
  {
   "cell_type": "code",
   "execution_count": 45,
   "metadata": {},
   "outputs": [
    {
     "data": {
      "text/plain": [
       "<matplotlib.image.AxesImage at 0x2ccb52217c0>"
      ]
     },
     "execution_count": 45,
     "metadata": {},
     "output_type": "execute_result"
    },
    {
     "data": {
      "image/png": "[encoded data removed]",
      "text/plain": [
       "<Figure size 432x288 with 1 Axes>"
      ]
     },
     "metadata": {
      "needs_background": "light"
     },
     "output_type": "display_data"
    }
   ],
   "source": [
    "plt.imshow(mvms[0])"
   ]
  },
  {
   "cell_type": "code",
   "execution_count": 46,
   "metadata": {},
   "outputs": [
    {
     "name": "stderr",
     "output_type": "stream",
     "text": [
      "100%|████████████████████████████████████████████████████████████████████████████████| 794/794 [02:32<00:00,  5.21it/s]\n"
     ]
    }
   ],
   "source": [
    "acc,recall,precision,f1 = pixel_acc(gt,mvms)"
   ]
  },
  {
   "cell_type": "code",
   "execution_count": 47,
   "metadata": {},
   "outputs": [
    {
     "name": "stdout",
     "output_type": "stream",
     "text": [
      "0.9850910372006159 0.6655451428481006 0.8349589337433085 0.716339376008494\n"
     ]
    }
   ],
   "source": [
    "print(acc,recall,precision,f1)"
   ]
  },
  {
   "cell_type": "code",
   "execution_count": null,
   "metadata": {},
   "outputs": [],
   "source": [
    "from img"
   ]
  }
 ],
 "metadata": {
  "kernelspec": {
   "display_name": "Python 3",
   "language": "python",
   "name": "python3"
  },
  "language_info": {
   "codemirror_mode": {
    "name": "ipython",
    "version": 3
   },
   "file_extension": ".py",
   "mimetype": "text/x-python",
   "name": "python",
   "nbconvert_exporter": "python",
   "pygments_lexer": "ipython3",
   "version": "3.8.6"
  }
 },
 "nbformat": 4,
 "nbformat_minor": 4
}

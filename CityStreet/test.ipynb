{
 "cells": [
  {
   "cell_type": "code",
   "execution_count": 1,
   "metadata": {},
   "outputs": [],
   "source": [
    "import pandas as pd\n",
    "import numpy as np\n",
    "import matplotlib.pyplot as plt\n",
    "import time\n",
    "#import tensorflow as tf"
   ]
  },
  {
   "cell_type": "code",
   "execution_count": 9,
   "metadata": {},
   "outputs": [],
   "source": [
    "val_loss = './MVMS_CityStreet/models/Street_all_output_Yu/train_val.csv'\n",
    "val_loss_2 = './MVMS_CityStreet/models/Street_all_output_07192138/train_val.csv'\n",
    "#val_loss_3 = './CityStreet/models/Street_all_output_07192145/train_val.csv'\n",
    "#val_loss_seg = './CityStreet_Segment/models/Street_all_output_07191911/train_val.csv'\n",
    "#val_loss_unet = './MVMS_UNet_CityStreet/models/Street_all_output_07261633/train_val.csv'\n",
    "val_loss_unet = './MVMS_UNet_CityStreet/models/Street_all_output_07261737/train_val.csv'\n",
    "val_loss_unet_only = './MVMS_UNet_Only_CityStreet/models/Street_all_output_07280103/train_val.csv'"
   ]
  },
  {
   "cell_type": "code",
   "execution_count": 10,
   "metadata": {},
   "outputs": [
    {
     "name": "stdout",
     "output_type": "stream",
     "text": [
      "     epoch       loss   val_loss\n",
      "0        0  81.912797  82.670344\n",
      "1        1  68.593129  70.930735\n",
      "2        2  61.871790  65.829002\n",
      "3        3  58.578869  66.228467\n",
      "4        4  55.090362  61.953465\n",
      "..     ...        ...        ...\n",
      "97      97  24.255936  48.527450\n",
      "98      98  24.174660  49.146511\n",
      "99      99  24.000233  48.748011\n",
      "100    100  24.052978  47.254261\n",
      "101    101  23.812471  48.401996\n",
      "\n",
      "[102 rows x 3 columns]\n"
     ]
    }
   ],
   "source": [
    "with open(val_loss_2,'r') as f:\n",
    "    df = pd.read_csv(f)\n",
    "    print(df)"
   ]
  },
  {
   "cell_type": "code",
   "execution_count": 11,
   "metadata": {},
   "outputs": [],
   "source": [
    "epoch = np.array(df['epoch'])\n",
    "loss = np.array(df['loss'])\n",
    "val_loss = np.array(df['val_loss'])"
   ]
  },
  {
   "cell_type": "code",
   "execution_count": 12,
   "metadata": {},
   "outputs": [
    {
     "data": {
      "image/png": "[encoded data removed]",
      "text/plain": [
       "<Figure size 432x288 with 1 Axes>"
      ]
     },
     "metadata": {
      "needs_background": "light"
     },
     "output_type": "display_data"
    }
   ],
   "source": [
    "plt.plot(epoch,loss,'r-',label='training loss')\n",
    "plt.plot(epoch,val_loss,'b-',label='validation loss')\n",
    "plt.legend()\n",
    "plt.show()"
   ]
  },
  {
   "cell_type": "code",
   "execution_count": 6,
   "metadata": {},
   "outputs": [
    {
     "name": "stdout",
     "output_type": "stream",
     "text": [
      "07281500\n"
     ]
    }
   ],
   "source": [
    "time_str = time.strftime(\"%m%d%H%M\", time.localtime())\n",
    "print(time_str)"
   ]
  },
  {
   "cell_type": "code",
   "execution_count": 7,
   "metadata": {},
   "outputs": [
    {
     "ename": "NameError",
     "evalue": "name 'npz_path' is not defined",
     "output_type": "error",
     "traceback": [
      "\u001b[1;31m---------------------------------------------------------------------------\u001b[0m",
      "\u001b[1;31mNameError\u001b[0m                                 Traceback (most recent call last)",
      "\u001b[1;32m<ipython-input-7-39a894011a6f>\u001b[0m in \u001b[0;36m<module>\u001b[1;34m\u001b[0m\n\u001b[0;32m      1\u001b[0m \u001b[0mview1_ic\u001b[0m \u001b[1;33m=\u001b[0m \u001b[1;34m'./MVMS_CityStreet/coords_correspondence_Street/projection_forth/view1_correspondence_forth_fullHeight.npz'\u001b[0m\u001b[1;33m\u001b[0m\u001b[1;33m\u001b[0m\u001b[0m\n\u001b[1;32m----> 2\u001b[1;33m \u001b[0mnpz_1\u001b[0m \u001b[1;33m=\u001b[0m \u001b[0mnp\u001b[0m\u001b[1;33m.\u001b[0m\u001b[0mload\u001b[0m\u001b[1;33m(\u001b[0m\u001b[0mnpz_path\u001b[0m\u001b[1;33m)\u001b[0m\u001b[1;33m\u001b[0m\u001b[1;33m\u001b[0m\u001b[0m\n\u001b[0m\u001b[0;32m      3\u001b[0m \u001b[0mprint\u001b[0m\u001b[1;33m(\u001b[0m\u001b[0mnpz_1\u001b[0m\u001b[1;33m.\u001b[0m\u001b[0mfiles\u001b[0m\u001b[1;33m)\u001b[0m\u001b[1;33m\u001b[0m\u001b[1;33m\u001b[0m\u001b[0m\n",
      "\u001b[1;31mNameError\u001b[0m: name 'npz_path' is not defined"
     ]
    }
   ],
   "source": [
    "view1_ic = './MVMS_CityStreet/coords_correspondence_Street/projection_forth/view1_correspondence_forth_fullHeight.npz'\n",
    "npz_1 = np.load(npz_path)\n",
    "print(npz_1.files)"
   ]
  },
  {
   "cell_type": "code",
   "execution_count": 24,
   "metadata": {},
   "outputs": [
    {
     "data": {
      "text/plain": [
       "(2, 30720)"
      ]
     },
     "execution_count": 24,
     "metadata": {},
     "output_type": "execute_result"
    }
   ],
   "source": [
    "npz_test = npz_1['arr_0']\n",
    "npz_test.shape"
   ]
  },
  {
   "cell_type": "code",
   "execution_count": 30,
   "metadata": {},
   "outputs": [],
   "source": [
    "view1_ic = npz_1['arr_0']\n",
    "view1_ic = tf.cast(view1_ic, 'float32')\n",
    "view1_ic = tf.expand_dims(view1_ic, axis=0)\n",
    "view1_ic = tf.tile(view1_ic, [380, 1, 1])"
   ]
  },
  {
   "cell_type": "code",
   "execution_count": 31,
   "metadata": {},
   "outputs": [
    {
     "name": "stdout",
     "output_type": "stream",
     "text": [
      "(380, 2, 30720)\n"
     ]
    }
   ],
   "source": [
    "print(view1_ic.shape)"
   ]
  },
  {
   "cell_type": "code",
   "execution_count": null,
   "metadata": {},
   "outputs": [],
   "source": []
  }
 ],
 "metadata": {
  "kernelspec": {
   "display_name": "Python 3",
   "language": "python",
   "name": "python3"
  },
  "language_info": {
   "codemirror_mode": {
    "name": "ipython",
    "version": 3
   },
   "file_extension": ".py",
   "mimetype": "text/x-python",
   "name": "python",
   "nbconvert_exporter": "python",
   "pygments_lexer": "ipython3",
   "version": "3.8.6"
  }
 },
 "nbformat": 4,
 "nbformat_minor": 4
}

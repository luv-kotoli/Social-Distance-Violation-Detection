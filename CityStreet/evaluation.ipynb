{
 "cells": [
  {
   "cell_type": "code",
   "execution_count": 186,
   "metadata": {},
   "outputs": [],
   "source": [
    "import numpy as np\n",
    "import h5py\n",
    "import cv2\n",
    "import matplotlib.pyplot as plt\n",
    "import pandas\n",
    "from sklearn.metrics import confusion_matrix\n",
    "from tqdm import tqdm"
   ]
  },
  {
   "cell_type": "code",
   "execution_count": 122,
   "metadata": {},
   "outputs": [],
   "source": [
    "def img_norm(img):\n",
    "    ratio = 255/(img.max()-img.min())\n",
    "    new_img = (img*ratio).astype(np.uint8)\n",
    "    #new_max = new_img.max()\n",
    "    return new_img"
   ]
  },
  {
   "cell_type": "code",
   "execution_count": 135,
   "metadata": {},
   "outputs": [],
   "source": [
    "gt_path = '../violation_data/test/gp_violations_seg.h5'\n",
    "pred_mvms_path = './MVMS_CityStreet/counting_results/counting_num_07192138.h5'\n",
    "pred_mvms_unet_path = './MVMS_UNet_CityStreet/counting_results/counting_num_07261737.h5'\n",
    "pred_unet_path = './MVMS_UNet_Only_CityStreet/counting_results/counting_num_07291728.h5'\n",
    "pred_msunet_path = './MVMS_UNet_Only_CityStreet/counting_results/counting_num_07291735.h5'"
   ]
  },
  {
   "cell_type": "code",
   "execution_count": 136,
   "metadata": {},
   "outputs": [],
   "source": [
    "gt = h5py.File(gt_path,'r')\n",
    "pred_mvms = h5py.File(pred_mvms_path,'r')\n",
    "pred_mvms_unet = h5py.File(pred_mvms_unet_path,'r')\n",
    "pred_unet = h5py.File(pred_unet_path,'r')\n",
    "pred_msunet = h5py.File(pred_msunet_path,'r')"
   ]
  },
  {
   "cell_type": "code",
   "execution_count": 137,
   "metadata": {},
   "outputs": [
    {
     "name": "stdout",
     "output_type": "stream",
     "text": [
      "<KeysViewHDF5 ['count', 'density_maps', 'segment_maps']>\n",
      "<KeysViewHDF5 ['count1_GProi', 'count2_GProi', 'count3_GProi', 'count_gplane', 'mae_GP', 'mae_view1', 'mae_view1_GP', 'mae_view1_GProi', 'mae_view2', 'mae_view2_GP', 'mae_view2_GProi', 'mae_view3', 'mae_view3_GP', 'mae_view3_GProi', 'pred_dmap_gplane']>\n",
      "<KeysViewHDF5 ['pred_dmap_gplane']>\n",
      "<KeysViewHDF5 ['pred_dmap_gplane']>\n",
      "<KeysViewHDF5 ['pred_dmap_gplane']>\n"
     ]
    }
   ],
   "source": [
    "print(gt.keys())\n",
    "print(pred_mvms.keys())\n",
    "print(pred_mvms_unet.keys())\n",
    "print(pred_unet.keys())\n",
    "print(pred_msunet.keys())"
   ]
  },
  {
   "cell_type": "code",
   "execution_count": 138,
   "metadata": {},
   "outputs": [],
   "source": [
    "gt = gt['segment_maps']\n",
    "mvms = pred_mvms['pred_dmap_gplane']\n",
    "mvms_unet = pred_mvms_unet['pred_dmap_gplane']\n",
    "unet = pred_unet['pred_dmap_gplane']\n",
    "msunet = pred_msunet['pred_dmap_gplane']"
   ]
  },
  {
   "cell_type": "code",
   "execution_count": 139,
   "metadata": {},
   "outputs": [],
   "source": [
    "gt = np.array(gt).squeeze()\n",
    "mvms = np.array(mvms).squeeze()\n",
    "mvms_unet = np.array(mvms_unet).squeeze()\n",
    "unet = np.array(unet).squeeze()\n",
    "msunet = np.array(msunet).squeeze()"
   ]
  },
  {
   "cell_type": "code",
   "execution_count": 140,
   "metadata": {},
   "outputs": [
    {
     "name": "stdout",
     "output_type": "stream",
     "text": [
      "1 0\n",
      "0.9999995 0.00013441758\n"
     ]
    }
   ],
   "source": [
    "print(gt[0].max(), gt[0].min())\n",
    "print(unet.max(),unet.min())"
   ]
  },
  {
   "cell_type": "code",
   "execution_count": 141,
   "metadata": {},
   "outputs": [],
   "source": [
    "mvms_new = []\n",
    "for img in mvms:\n",
    "    img = cv2.resize(img,(640,768))\n",
    "    img = img_norm(img)\n",
    "    img[img<35] =1\n",
    "    img[img>=35] = 0\n",
    "    mvms_new.append(img)"
   ]
  },
  {
   "cell_type": "code",
   "execution_count": 142,
   "metadata": {},
   "outputs": [],
   "source": [
    "mvms = np.array(mvms_new)"
   ]
  },
  {
   "cell_type": "code",
   "execution_count": 143,
   "metadata": {},
   "outputs": [
    {
     "name": "stdout",
     "output_type": "stream",
     "text": [
      "[[1 1 1 ... 1 1 1]\n",
      " [1 1 1 ... 1 1 1]\n",
      " [1 1 1 ... 1 1 1]\n",
      " ...\n",
      " [1 1 1 ... 1 1 1]\n",
      " [1 1 1 ... 1 1 1]\n",
      " [1 1 1 ... 1 1 1]]\n"
     ]
    }
   ],
   "source": [
    "print(mvms[0])"
   ]
  },
  {
   "cell_type": "code",
   "execution_count": 144,
   "metadata": {},
   "outputs": [
    {
     "data": {
      "text/plain": [
       "<matplotlib.image.AxesImage at 0x17e2cf05b80>"
      ]
     },
     "execution_count": 144,
     "metadata": {},
     "output_type": "execute_result"
    },
    {
     "data": {
      "image/png": "[encoded data removed]",
      "text/plain": [
       "<Figure size 432x288 with 1 Axes>"
      ]
     },
     "metadata": {
      "needs_background": "light"
     },
     "output_type": "display_data"
    }
   ],
   "source": [
    "plt.imshow(mvms[0])"
   ]
  },
  {
   "cell_type": "code",
   "execution_count": 145,
   "metadata": {},
   "outputs": [],
   "source": [
    "mvms_unet_new = []\n",
    "for img in mvms_unet:\n",
    "    img[img<0.5]=0\n",
    "    img[img>0.5]=1\n",
    "    mvms_unet_new.append(img)\n",
    "    \n",
    "mvms_unet = np.array(mvms_unet_new)"
   ]
  },
  {
   "cell_type": "code",
   "execution_count": 146,
   "metadata": {},
   "outputs": [
    {
     "name": "stdout",
     "output_type": "stream",
     "text": [
      "[[1. 1. 1. ... 1. 1. 1.]\n",
      " [1. 1. 1. ... 1. 1. 1.]\n",
      " [1. 1. 1. ... 1. 1. 1.]\n",
      " ...\n",
      " [1. 1. 1. ... 1. 1. 1.]\n",
      " [1. 1. 1. ... 1. 1. 1.]\n",
      " [1. 1. 1. ... 1. 1. 1.]]\n"
     ]
    },
    {
     "data": {
      "text/plain": [
       "<matplotlib.image.AxesImage at 0x17e2cf58e20>"
      ]
     },
     "execution_count": 146,
     "metadata": {},
     "output_type": "execute_result"
    },
    {
     "data": {
      "image/png": "[encoded data removed]",
      "text/plain": [
       "<Figure size 432x288 with 1 Axes>"
      ]
     },
     "metadata": {
      "needs_background": "light"
     },
     "output_type": "display_data"
    }
   ],
   "source": [
    "print(mvms_unet[0])\n",
    "plt.imshow(mvms_unet[0].squeeze(),cmap='gray')"
   ]
  },
  {
   "cell_type": "code",
   "execution_count": 147,
   "metadata": {},
   "outputs": [
    {
     "name": "stdout",
     "output_type": "stream",
     "text": [
      "True\n"
     ]
    }
   ],
   "source": [
    "print(mvms[0,0,0]==mvms_unet[0,0,0])"
   ]
  },
  {
   "cell_type": "code",
   "execution_count": 148,
   "metadata": {},
   "outputs": [],
   "source": [
    "unet_new = []\n",
    "for img in unet:\n",
    "    img[img<0.5]=0\n",
    "    img[img>0.5]=1\n",
    "    unet_new.append(img)\n",
    "    \n",
    "unet = np.array(unet_new)"
   ]
  },
  {
   "cell_type": "code",
   "execution_count": 149,
   "metadata": {},
   "outputs": [],
   "source": [
    "msunet_new = []\n",
    "for img in msunet:\n",
    "    img[img<0.5]=0\n",
    "    img[img>0.5]=1\n",
    "    msunet_new.append(img)\n",
    "    \n",
    "msunet = np.array(msunet_new)"
   ]
  },
  {
   "cell_type": "code",
   "execution_count": null,
   "metadata": {},
   "outputs": [],
   "source": []
  },
  {
   "cell_type": "code",
   "execution_count": 150,
   "metadata": {},
   "outputs": [
    {
     "name": "stdout",
     "output_type": "stream",
     "text": [
      "(200, 768, 640)\n"
     ]
    }
   ],
   "source": [
    "print(msunet.shape)"
   ]
  },
  {
   "cell_type": "code",
   "execution_count": null,
   "metadata": {},
   "outputs": [],
   "source": []
  },
  {
   "cell_type": "code",
   "execution_count": 174,
   "metadata": {},
   "outputs": [],
   "source": [
    "def pixel_acc(gt,pred):\n",
    "    acc = 0\n",
    "    recall =0\n",
    "    precision =0\n",
    "    f1 = 0\n",
    "    for i in tqdm(range(gt.shape[0])):\n",
    "        gt_i = gt[i].flatten().squeeze()\n",
    "        #print(gt_i)\n",
    "        pred_i = pred[i].flatten().squeeze()\n",
    "        [[tp,fn],[fp,tn]] = confusion_matrix(gt_i,pred_i)\n",
    "        acc_i = (tp+tn)/(tp+fn+fp+tn)\n",
    "        recall_i = tp/(tp+fn)\n",
    "        precision_i = tp/(tp+fp)\n",
    "        f1_i = 2*precision_i*recall_i/(precision_i+recall_i)\n",
    "        \n",
    "        acc += acc_i\n",
    "        recall += recall_i\n",
    "        precision += precision_i\n",
    "        f1 += f1_i\n",
    "\n",
    "    acc = acc/len(gt)\n",
    "    recall = recall/len(gt)\n",
    "    precision = precision /len(gt)\n",
    "    f1 = f1/len(gt)\n",
    "    return acc,recall,precision,f1\n"
   ]
  },
  {
   "cell_type": "code",
   "execution_count": 177,
   "metadata": {},
   "outputs": [
    {
     "name": "stderr",
     "output_type": "stream",
     "text": [
      "100%|████████████████████████████████████████████████████████████████████████████████| 200/200 [00:41<00:00,  4.80it/s]\n"
     ]
    }
   ],
   "source": [
    "acc,recall,precision,f1 = pixel_acc(gt,mvms)"
   ]
  },
  {
   "cell_type": "code",
   "execution_count": 178,
   "metadata": {},
   "outputs": [
    {
     "name": "stdout",
     "output_type": "stream",
     "text": [
      "0.9613593444824222 0.5498640244155293 0.6935691479067639 0.6051788350291889\n"
     ]
    }
   ],
   "source": [
    "print(acc,recall,precision,f1)"
   ]
  },
  {
   "cell_type": "code",
   "execution_count": 179,
   "metadata": {},
   "outputs": [
    {
     "name": "stderr",
     "output_type": "stream",
     "text": [
      "100%|████████████████████████████████████████████████████████████████████████████████| 200/200 [02:55<00:00,  1.14it/s]\n"
     ]
    }
   ],
   "source": [
    "acc,recall,precision,f1 = pixel_acc(gt,mvms_unet)"
   ]
  },
  {
   "cell_type": "code",
   "execution_count": 180,
   "metadata": {},
   "outputs": [
    {
     "name": "stdout",
     "output_type": "stream",
     "text": [
      "0.9602390238444011 0.5625729894506474 0.6605925259226634 0.5992470394234416\n"
     ]
    }
   ],
   "source": [
    "print(acc,recall,precision,f1)"
   ]
  },
  {
   "cell_type": "code",
   "execution_count": 175,
   "metadata": {},
   "outputs": [
    {
     "name": "stderr",
     "output_type": "stream",
     "text": [
      "100%|████████████████████████████████████████████████████████████████████████████████| 200/200 [02:56<00:00,  1.13it/s]\n"
     ]
    }
   ],
   "source": [
    "acc,recall,precision,f1 = pixel_acc(gt,unet)"
   ]
  },
  {
   "cell_type": "code",
   "execution_count": 176,
   "metadata": {},
   "outputs": [
    {
     "name": "stdout",
     "output_type": "stream",
     "text": [
      "0.9608267008463539 0.563018802777009 0.6682100038615679 0.6030940796291762\n"
     ]
    }
   ],
   "source": [
    "print(acc,recall,precision,f1)"
   ]
  },
  {
   "cell_type": "code",
   "execution_count": 181,
   "metadata": {},
   "outputs": [],
   "source": [
    "msunet = np.array(msunet,'b')"
   ]
  },
  {
   "cell_type": "code",
   "execution_count": 182,
   "metadata": {},
   "outputs": [],
   "source": [
    "gt = np.array(gt,'b')"
   ]
  },
  {
   "cell_type": "code",
   "execution_count": 183,
   "metadata": {},
   "outputs": [
    {
     "data": {
      "text/plain": [
       "<matplotlib.image.AxesImage at 0x17e2d227c70>"
      ]
     },
     "execution_count": 183,
     "metadata": {},
     "output_type": "execute_result"
    },
    {
     "data": {
      "image/png": "[encoded data removed]",
      "text/plain": [
       "<Figure size 432x288 with 1 Axes>"
      ]
     },
     "metadata": {
      "needs_background": "light"
     },
     "output_type": "display_data"
    }
   ],
   "source": [
    "plt.imshow(msunet[0])"
   ]
  },
  {
   "cell_type": "code",
   "execution_count": 184,
   "metadata": {},
   "outputs": [
    {
     "name": "stderr",
     "output_type": "stream",
     "text": [
      "100%|████████████████████████████████████████████████████████████████████████████████| 200/200 [00:45<00:00,  4.41it/s]\n"
     ]
    }
   ],
   "source": [
    "acc,recall,precision,f1 = pixel_acc(gt,msunet)"
   ]
  },
  {
   "cell_type": "code",
   "execution_count": 185,
   "metadata": {},
   "outputs": [
    {
     "name": "stdout",
     "output_type": "stream",
     "text": [
      "0.9600034688313801 0.5899907710144401 0.646036973294946 0.6098109315273382\n"
     ]
    }
   ],
   "source": [
    "print(acc,recall,precision,f1)"
   ]
  },
  {
   "cell_type": "code",
   "execution_count": 188,
   "metadata": {},
   "outputs": [],
   "source": [
    "import camera_proj_Zhang as proj"
   ]
  },
  {
   "cell_type": "code",
   "execution_count": 192,
   "metadata": {},
   "outputs": [
    {
     "ename": "ValueError",
     "evalue": "The truth value of an array with more than one element is ambiguous. Use a.any() or a.all()",
     "output_type": "error",
     "traceback": [
      "\u001b[1;31m---------------------------------------------------------------------------\u001b[0m",
      "\u001b[1;31mValueError\u001b[0m                                Traceback (most recent call last)",
      "\u001b[1;32m<ipython-input-192-8c3e7d0cd688>\u001b[0m in \u001b[0;36m<module>\u001b[1;34m\u001b[0m\n\u001b[1;32m----> 1\u001b[1;33m \u001b[0mtest\u001b[0m \u001b[1;33m=\u001b[0m \u001b[0mproj\u001b[0m\u001b[1;33m.\u001b[0m\u001b[0mWorld2Image\u001b[0m\u001b[1;33m(\u001b[0m\u001b[1;34m'view1'\u001b[0m\u001b[1;33m,\u001b[0m\u001b[0mgt\u001b[0m\u001b[1;33m[\u001b[0m\u001b[1;36m0\u001b[0m\u001b[1;33m,\u001b[0m\u001b[1;36m0\u001b[0m\u001b[1;33m]\u001b[0m\u001b[1;33m,\u001b[0m\u001b[0mgt\u001b[0m\u001b[1;33m[\u001b[0m\u001b[1;36m0\u001b[0m\u001b[1;33m,\u001b[0m\u001b[1;36m1\u001b[0m\u001b[1;33m]\u001b[0m\u001b[1;33m,\u001b[0m\u001b[0mgt\u001b[0m\u001b[1;33m[\u001b[0m\u001b[1;36m0\u001b[0m\u001b[1;33m,\u001b[0m\u001b[1;36m2\u001b[0m\u001b[1;33m]\u001b[0m\u001b[1;33m)\u001b[0m\u001b[1;33m\u001b[0m\u001b[1;33m\u001b[0m\u001b[0m\n\u001b[0m",
      "\u001b[1;32mH:\\Project_Yu\\MVMS\\camera_proj_Zhang.py\u001b[0m in \u001b[0;36mWorld2Image\u001b[1;34m(view, Xw, Yw, Zw)\u001b[0m\n\u001b[0;32m    440\u001b[0m \u001b[1;33m\u001b[0m\u001b[0m\n\u001b[0;32m    441\u001b[0m     \u001b[1;31m# step 3:\u001b[0m\u001b[1;33m\u001b[0m\u001b[1;33m\u001b[0m\u001b[1;33m\u001b[0m\u001b[0m\n\u001b[1;32m--> 442\u001b[1;33m     \u001b[0mXYd\u001b[0m \u001b[1;33m=\u001b[0m \u001b[0mundistortedToDistortedSensorCoord\u001b[0m\u001b[1;33m(\u001b[0m\u001b[0mXu\u001b[0m\u001b[1;33m,\u001b[0m \u001b[0mYu\u001b[0m\u001b[1;33m,\u001b[0m \u001b[0mmKappa1\u001b[0m\u001b[1;33m,\u001b[0m \u001b[0mmKappa2\u001b[0m\u001b[1;33m)\u001b[0m\u001b[1;33m\u001b[0m\u001b[1;33m\u001b[0m\u001b[0m\n\u001b[0m\u001b[0;32m    443\u001b[0m     \u001b[0mXd\u001b[0m \u001b[1;33m=\u001b[0m \u001b[0mXYd\u001b[0m\u001b[1;33m[\u001b[0m\u001b[1;36m0\u001b[0m\u001b[1;33m]\u001b[0m\u001b[1;33m\u001b[0m\u001b[1;33m\u001b[0m\u001b[0m\n\u001b[0;32m    444\u001b[0m     \u001b[0mYd\u001b[0m \u001b[1;33m=\u001b[0m \u001b[0mXYd\u001b[0m\u001b[1;33m[\u001b[0m\u001b[1;36m1\u001b[0m\u001b[1;33m]\u001b[0m\u001b[1;33m\u001b[0m\u001b[1;33m\u001b[0m\u001b[0m\n",
      "\u001b[1;32mH:\\Project_Yu\\MVMS\\camera_proj_Zhang.py\u001b[0m in \u001b[0;36mundistortedToDistortedSensorCoord\u001b[1;34m(Xu, Yu, mKappa1, mKappa2)\u001b[0m\n\u001b[0;32m    454\u001b[0m     \u001b[0me\u001b[0m \u001b[1;33m=\u001b[0m \u001b[1;36m1e-10\u001b[0m\u001b[1;33m\u001b[0m\u001b[1;33m\u001b[0m\u001b[0m\n\u001b[0;32m    455\u001b[0m \u001b[1;33m\u001b[0m\u001b[0m\n\u001b[1;32m--> 456\u001b[1;33m     \u001b[1;32mif\u001b[0m \u001b[1;33m(\u001b[0m\u001b[1;33m(\u001b[0m\u001b[1;33m(\u001b[0m\u001b[0mXu\u001b[0m \u001b[1;33m==\u001b[0m \u001b[1;36m0\u001b[0m\u001b[1;33m)\u001b[0m \u001b[1;33m&\u001b[0m \u001b[1;33m(\u001b[0m\u001b[0mYu\u001b[0m \u001b[1;33m==\u001b[0m \u001b[1;36m0\u001b[0m\u001b[1;33m)\u001b[0m\u001b[1;33m)\u001b[0m \u001b[1;33m|\u001b[0m \u001b[1;33m(\u001b[0m\u001b[0mmKappa1\u001b[0m \u001b[1;33m==\u001b[0m \u001b[1;36m0\u001b[0m\u001b[1;33m)\u001b[0m\u001b[1;33m&\u001b[0m \u001b[1;33m(\u001b[0m\u001b[0mmKappa2\u001b[0m \u001b[1;33m==\u001b[0m \u001b[1;36m0\u001b[0m\u001b[1;33m)\u001b[0m\u001b[1;33m)\u001b[0m\u001b[1;33m:\u001b[0m\u001b[1;33m\u001b[0m\u001b[1;33m\u001b[0m\u001b[0m\n\u001b[0m\u001b[0;32m    457\u001b[0m         \u001b[0mXd\u001b[0m \u001b[1;33m=\u001b[0m \u001b[0mXu\u001b[0m\u001b[1;33m\u001b[0m\u001b[1;33m\u001b[0m\u001b[0m\n\u001b[0;32m    458\u001b[0m         \u001b[0mYd\u001b[0m \u001b[1;33m=\u001b[0m \u001b[0mYu\u001b[0m\u001b[1;33m\u001b[0m\u001b[1;33m\u001b[0m\u001b[0m\n",
      "\u001b[1;31mValueError\u001b[0m: The truth value of an array with more than one element is ambiguous. Use a.any() or a.all()"
     ]
    }
   ],
   "source": [
    "test = proj.World2Image('view1',gt[0,0],gt[0,1],gt[0,2])"
   ]
  },
  {
   "cell_type": "code",
   "execution_count": 191,
   "metadata": {},
   "outputs": [
    {
     "name": "stdout",
     "output_type": "stream",
     "text": [
      "[array([327764.95261033, 327764.95261033, 327764.95261033, 327764.95261033,\n",
      "       327764.95261033, 327764.95261033, 327764.95261033, 327764.95261033,\n",
      "       327764.95261033, 327764.95261033, 327764.95261033, 327764.95261033,\n",
      "       327764.95261033, 327764.95261033, 327764.95261033, 327764.95261033,\n",
      "       327764.95261033, 327764.95261033, 327764.95261033, 327764.95261033,\n",
      "       327764.95261033, 327764.95261033, 327764.95261033, 327764.95261033,\n",
      "       327764.95261033, 327764.95261033, 327764.95261033, 327764.95261033,\n",
      "       327764.95261033, 327764.95261033, 327764.95261033, 327764.95261033,\n",
      "       327764.95261033, 327764.95261033, 327764.95261033, 327764.95261033,\n",
      "       327764.95261033, 327764.95261033, 327764.95261033, 327764.95261033,\n",
      "       327764.95261033, 327764.95261033, 327764.95261033, 327764.95261033,\n",
      "       327764.95261033, 327764.95261033, 327764.95261033, 327764.95261033,\n",
      "       327764.95261033, 327764.95261033, 327764.95261033, 327764.95261033,\n",
      "       327764.95261033, 327764.95261033, 327764.95261033, 327764.95261033,\n",
      "       327764.95261033, 327764.95261033, 327764.95261033, 327764.95261033,\n",
      "       327764.95261033, 327764.95261033, 327764.95261033, 327764.95261033,\n",
      "       327764.95261033, 327764.95261033, 327764.95261033, 327764.95261033,\n",
      "       327764.95261033, 327764.95261033, 327764.95261033, 327764.95261033,\n",
      "       327764.95261033, 327764.95261033, 327764.95261033, 327764.95261033,\n",
      "       327764.95261033, 327764.95261033, 327764.95261033, 327764.95261033,\n",
      "       327764.95261033, 327764.95261033, 327764.95261033, 327764.95261033,\n",
      "       327764.95261033, 327764.95261033, 327764.95261033, 327764.95261033,\n",
      "       327764.95261033, 327764.95261033, 327764.95261033, 327764.95261033,\n",
      "       327764.95261033, 327764.95261033, 327764.95261033, 327764.95261033,\n",
      "       327764.95261033, 327764.95261033, 327764.95261033, 327764.95261033,\n",
      "       327764.95261033, 327764.95261033, 327764.95261033, 327764.95261033,\n",
      "       327764.95261033, 327764.95261033, 327764.95261033, 327764.95261033,\n",
      "       327764.95261033, 327764.95261033, 327764.95261033, 327764.95261033,\n",
      "       327764.95261033, 327764.95261033, 327764.95261033, 327764.95261033,\n",
      "       327764.95261033, 327764.95261033, 327764.95261033, 327764.95261033,\n",
      "       327764.95261033, 327764.95261033, 327764.95261033, 327764.95261033,\n",
      "       327764.95261033, 327764.95261033, 327764.95261033, 327764.95261033,\n",
      "       327764.95261033, 327764.95261033, 327764.95261033, 327764.95261033,\n",
      "       327764.95261033, 327764.95261033, 327764.95261033, 327764.95261033,\n",
      "       327764.95261033, 327764.95261033, 327764.95261033, 327764.95261033,\n",
      "       327764.95261033, 327764.95261033, 327764.95261033, 327764.95261033,\n",
      "       327764.95261033, 327764.95261033, 327764.95261033, 327764.95261033,\n",
      "       327764.95261033, 327764.95261033, 327764.95261033, 327764.95261033,\n",
      "       327764.95261033, 327764.95261033, 327764.95261033, 327764.95261033,\n",
      "       327764.95261033, 327764.95261033, 327764.95261033, 327764.95261033,\n",
      "       327764.95261033, 327764.95261033, 327764.95261033, 327764.95261033,\n",
      "       327764.95261033, 327764.95261033, 327764.95261033, 327764.95261033,\n",
      "       327764.95261033, 327764.95261033, 327764.95261033, 327764.95261033,\n",
      "       327764.95261033, 327764.95261033, 327764.95261033, 327764.95261033,\n",
      "       327764.95261033, 327764.95261033, 327764.95261033, 327764.95261033,\n",
      "       327764.95261033, 327764.95261033, 327764.95261033, 327764.95261033,\n",
      "       327764.95261033, 327764.95261033, 327764.95261033, 327764.95261033,\n",
      "       327764.95261033, 327764.95261033, 327764.95261033, 327764.95261033,\n",
      "       327764.95261033, 327764.95261033, 327764.95261033, 327764.95261033,\n",
      "       327764.95261033, 327764.95261033, 327764.95261033, 327764.95261033,\n",
      "       327764.95261033, 327764.95261033, 327764.95261033, 327764.95261033,\n",
      "       327764.95261033, 327764.95261033, 327764.95261033, 327764.95261033,\n",
      "       327764.95261033, 327764.95261033, 327764.95261033, 327764.95261033,\n",
      "       327764.95261033, 327764.95261033, 327764.95261033, 327764.95261033,\n",
      "       327764.95261033, 327764.95261033, 327764.95261033, 327764.95261033,\n",
      "       327764.95261033, 327764.95261033, 327764.95261033, 327764.95261033,\n",
      "       327764.95261033, 327764.95261033, 327764.95261033, 327764.95261033,\n",
      "       327764.95261033, 327764.95261033, 327764.95261033, 327764.95261033,\n",
      "       327764.95261033, 327764.95261033, 327764.95261033, 327764.95261033,\n",
      "       327764.95261033, 327764.95261033, 327764.95261033, 327764.95261033,\n",
      "       327764.95261033, 327764.95261033, 327764.95261033, 327764.95261033,\n",
      "       327764.95261033, 327764.95261033, 327764.95261033, 327764.95261033,\n",
      "       327764.95261033, 327764.95261033, 327764.95261033, 327764.95261033,\n",
      "       327764.95261033, 327764.95261033, 327764.95261033, 327764.95261033,\n",
      "       327764.95261033, 327764.95261033, 327764.95261033, 327764.95261033,\n",
      "       327764.95261033, 327764.95261033, 327764.95261033, 327764.95261033,\n",
      "       327764.95261033, 327764.95261033, 327764.95261033, 327764.95261033,\n",
      "       327764.95261033, 327764.95261033, 327764.95261033, 327764.95261033,\n",
      "       327764.95261033, 327764.95261033, 327764.95261033, 327764.95261033,\n",
      "       327764.95261033, 327764.95261033, 327764.95261033, 327764.95261033,\n",
      "       327764.95261033, 327764.95261033, 327764.95261033, 327764.95261033,\n",
      "       327764.95261033, 327764.95261033, 327764.95261033, 327764.95261033,\n",
      "       327764.95261033, 327764.95261033, 327764.95261033, 327764.95261033,\n",
      "       327764.95261033, 327764.95261033, 327764.95261033, 327764.95261033,\n",
      "       327764.95261033, 327764.95261033, 327764.95261033, 327764.95261033,\n",
      "       327764.95261033, 327764.95261033, 327764.95261033, 327764.95261033,\n",
      "       327764.95261033, 327764.95261033, 327764.95261033, 327764.95261033,\n",
      "       327764.95261033, 327764.95261033, 327764.95261033, 327764.95261033,\n",
      "       327764.95261033, 327764.95261033, 327764.95261033, 327764.95261033,\n",
      "       327764.95261033, 327764.95261033, 327764.95261033, 327764.95261033,\n",
      "       327764.95261033, 327764.95261033, 327764.95261033, 327764.95261033,\n",
      "       327764.95261033, 327764.95261033, 327764.95261033, 327764.95261033,\n",
      "       327764.95261033, 327764.95261033, 327764.95261033, 327764.95261033,\n",
      "       327764.95261033, 327764.95261033, 327764.95261033, 327764.95261033,\n",
      "       327764.95261033, 327764.95261033, 327764.95261033, 327764.95261033,\n",
      "       327764.95261033, 327764.95261033, 327764.95261033, 327764.95261033,\n",
      "       327764.95261033, 327764.95261033, 327764.95261033, 327764.95261033,\n",
      "       327764.95261033, 327764.95261033, 327764.95261033, 327764.95261033,\n",
      "       327764.95261033, 327764.95261033, 327764.95261033, 327764.95261033,\n",
      "       327764.95261033, 327764.95261033, 327764.95261033, 327764.95261033,\n",
      "       327764.95261033, 327764.95261033, 327764.95261033, 327764.95261033,\n",
      "       327764.95261033, 327764.95261033, 327764.95261033, 327764.95261033,\n",
      "       327764.95261033, 327764.95261033, 327764.95261033, 327764.95261033,\n",
      "       327764.95261033, 327764.95261033, 327764.95261033, 327764.95261033,\n",
      "       327764.95261033, 327764.95261033, 327764.95261033, 327764.95261033,\n",
      "       327764.95261033, 327764.95261033, 327764.95261033, 327764.95261033,\n",
      "       327764.95261033, 327764.95261033, 327764.95261033, 327764.95261033,\n",
      "       327764.95261033, 327764.95261033, 327764.95261033, 327764.95261033,\n",
      "       327764.95261033, 327764.95261033, 327764.95261033, 327764.95261033,\n",
      "       327764.95261033, 327764.95261033, 327764.95261033, 327764.95261033,\n",
      "       327764.95261033, 327764.95261033, 327764.95261033, 327764.95261033,\n",
      "       327764.95261033, 327764.95261033, 327764.95261033, 327764.95261033,\n",
      "       327764.95261033, 327764.95261033, 327764.95261033, 327764.95261033,\n",
      "       327764.95261033, 327764.95261033, 327764.95261033, 327764.95261033,\n",
      "       327764.95261033, 327764.95261033, 327764.95261033, 327764.95261033,\n",
      "       327764.95261033, 327764.95261033, 327764.95261033, 327764.95261033,\n",
      "       327764.95261033, 327764.95261033, 327764.95261033, 327764.95261033,\n",
      "       327764.95261033, 327764.95261033, 327764.95261033, 327764.95261033,\n",
      "       327764.95261033, 327764.95261033, 327764.95261033, 327764.95261033,\n",
      "       327764.95261033, 327764.95261033, 327764.95261033, 327764.95261033,\n",
      "       327764.95261033, 327764.95261033, 327764.95261033, 327764.95261033,\n",
      "       327764.95261033, 327764.95261033, 327764.95261033, 327764.95261033,\n",
      "       327764.95261033, 327764.95261033, 327764.95261033, 327764.95261033,\n",
      "       327764.95261033, 327764.95261033, 327764.95261033, 327764.95261033,\n",
      "       327764.95261033, 327764.95261033, 327764.95261033, 327764.95261033,\n",
      "       327764.95261033, 327764.95261033, 327764.95261033, 327764.95261033,\n",
      "       327764.95261033, 327764.95261033, 327764.95261033, 327764.95261033,\n",
      "       327764.95261033, 327764.95261033, 327764.95261033, 327764.95261033,\n",
      "       327764.95261033, 327764.95261033, 327764.95261033, 327764.95261033,\n",
      "       327764.95261033, 327764.95261033, 327764.95261033, 327764.95261033,\n",
      "       327764.95261033, 327764.95261033, 327764.95261033, 327764.95261033,\n",
      "       327764.95261033, 327764.95261033, 327764.95261033, 327764.95261033,\n",
      "       327764.95261033, 327764.95261033, 327764.95261033, 327764.95261033,\n",
      "       327764.95261033, 327764.95261033, 327764.95261033, 327764.95261033,\n",
      "       327764.95261033, 327764.95261033, 327764.95261033, 327764.95261033,\n",
      "       327764.95261033, 327764.95261033, 327764.95261033, 327764.95261033,\n",
      "       327764.95261033, 327764.95261033, 327764.95261033, 327764.95261033,\n",
      "       327764.95261033, 327764.95261033, 327764.95261033, 327764.95261033,\n",
      "       327764.95261033, 327764.95261033, 327764.95261033, 327764.95261033,\n",
      "       327764.95261033, 327764.95261033, 327764.95261033, 327764.95261033,\n",
      "       327764.95261033, 327764.95261033, 327764.95261033, 327764.95261033,\n",
      "       327764.95261033, 327764.95261033, 327764.95261033, 327764.95261033,\n",
      "       327764.95261033, 327764.95261033, 327764.95261033, 327764.95261033,\n",
      "       327764.95261033, 327764.95261033, 327764.95261033, 327764.95261033,\n",
      "       327764.95261033, 327764.95261033, 327764.95261033, 327764.95261033,\n",
      "       327764.95261033, 327764.95261033, 327764.95261033, 327764.95261033,\n",
      "       327764.95261033, 327764.95261033, 327764.95261033, 327764.95261033,\n",
      "       327764.95261033, 327764.95261033, 327764.95261033, 327764.95261033,\n",
      "       327764.95261033, 327764.95261033, 327764.95261033, 327764.95261033,\n",
      "       327764.95261033, 327764.95261033, 327764.95261033, 327764.95261033,\n",
      "       327764.95261033, 327764.95261033, 327764.95261033, 327764.95261033,\n",
      "       327764.95261033, 327764.95261033, 327764.95261033, 327764.95261033,\n",
      "       327764.95261033, 327764.95261033, 327764.95261033, 327764.95261033,\n",
      "       327764.95261033, 327764.95261033, 327764.95261033, 327764.95261033,\n",
      "       327764.95261033, 327764.95261033, 327764.95261033, 327764.95261033,\n",
      "       327764.95261033, 327764.95261033, 327764.95261033, 327764.95261033,\n",
      "       327764.95261033, 327764.95261033, 327764.95261033, 327764.95261033,\n",
      "       327764.95261033, 327764.95261033, 327764.95261033, 327764.95261033,\n",
      "       327764.95261033, 327764.95261033, 327764.95261033, 327764.95261033,\n",
      "       327764.95261033, 327764.95261033, 327764.95261033, 327764.95261033,\n",
      "       327764.95261033, 327764.95261033, 327764.95261033, 327764.95261033,\n",
      "       327764.95261033, 327764.95261033, 327764.95261033, 327764.95261033,\n",
      "       327764.95261033, 327764.95261033, 327764.95261033, 327764.95261033,\n",
      "       327764.95261033, 327764.95261033, 327764.95261033, 327764.95261033,\n",
      "       327764.95261033, 327764.95261033, 327764.95261033, 327764.95261033,\n",
      "       327764.95261033, 327764.95261033, 327764.95261033, 327764.95261033,\n",
      "       327764.95261033, 327764.95261033, 327764.95261033, 327764.95261033,\n",
      "       327764.95261033, 327764.95261033, 327764.95261033, 327764.95261033,\n",
      "       327764.95261033, 327764.95261033, 327764.95261033, 327764.95261033,\n",
      "       327764.95261033, 327764.95261033, 327764.95261033, 327764.95261033]), array([-226109.79837129, -226109.79837129, -226109.79837129,\n",
      "       -226109.79837129, -226109.79837129, -226109.79837129,\n",
      "       -226109.79837129, -226109.79837129, -226109.79837129,\n",
      "       -226109.79837129, -226109.79837129, -226109.79837129,\n",
      "       -226109.79837129, -226109.79837129, -226109.79837129,\n",
      "       -226109.79837129, -226109.79837129, -226109.79837129,\n",
      "       -226109.79837129, -226109.79837129, -226109.79837129,\n",
      "       -226109.79837129, -226109.79837129, -226109.79837129,\n",
      "       -226109.79837129, -226109.79837129, -226109.79837129,\n",
      "       -226109.79837129, -226109.79837129, -226109.79837129,\n",
      "       -226109.79837129, -226109.79837129, -226109.79837129,\n",
      "       -226109.79837129, -226109.79837129, -226109.79837129,\n",
      "       -226109.79837129, -226109.79837129, -226109.79837129,\n",
      "       -226109.79837129, -226109.79837129, -226109.79837129,\n",
      "       -226109.79837129, -226109.79837129, -226109.79837129,\n",
      "       -226109.79837129, -226109.79837129, -226109.79837129,\n",
      "       -226109.79837129, -226109.79837129, -226109.79837129,\n",
      "       -226109.79837129, -226109.79837129, -226109.79837129,\n",
      "       -226109.79837129, -226109.79837129, -226109.79837129,\n",
      "       -226109.79837129, -226109.79837129, -226109.79837129,\n",
      "       -226109.79837129, -226109.79837129, -226109.79837129,\n",
      "       -226109.79837129, -226109.79837129, -226109.79837129,\n",
      "       -226109.79837129, -226109.79837129, -226109.79837129,\n",
      "       -226109.79837129, -226109.79837129, -226109.79837129,\n",
      "       -226109.79837129, -226109.79837129, -226109.79837129,\n",
      "       -226109.79837129, -226109.79837129, -226109.79837129,\n",
      "       -226109.79837129, -226109.79837129, -226109.79837129,\n",
      "       -226109.79837129, -226109.79837129, -226109.79837129,\n",
      "       -226109.79837129, -226109.79837129, -226109.79837129,\n",
      "       -226109.79837129, -226109.79837129, -226109.79837129,\n",
      "       -226109.79837129, -226109.79837129, -226109.79837129,\n",
      "       -226109.79837129, -226109.79837129, -226109.79837129,\n",
      "       -226109.79837129, -226109.79837129, -226109.79837129,\n",
      "       -226109.79837129, -226109.79837129, -226109.79837129,\n",
      "       -226109.79837129, -226109.79837129, -226109.79837129,\n",
      "       -226109.79837129, -226109.79837129, -226109.79837129,\n",
      "       -226109.79837129, -226109.79837129, -226109.79837129,\n",
      "       -226109.79837129, -226109.79837129, -226109.79837129,\n",
      "       -226109.79837129, -226109.79837129, -226109.79837129,\n",
      "       -226109.79837129, -226109.79837129, -226109.79837129,\n",
      "       -226109.79837129, -226109.79837129, -226109.79837129,\n",
      "       -226109.79837129, -226109.79837129, -226109.79837129,\n",
      "       -226109.79837129, -226109.79837129, -226109.79837129,\n",
      "       -226109.79837129, -226109.79837129, -226109.79837129,\n",
      "       -226109.79837129, -226109.79837129, -226109.79837129,\n",
      "       -226109.79837129, -226109.79837129, -226109.79837129,\n",
      "       -226109.79837129, -226109.79837129, -226109.79837129,\n",
      "       -226109.79837129, -226109.79837129, -226109.79837129,\n",
      "       -226109.79837129, -226109.79837129, -226109.79837129,\n",
      "       -226109.79837129, -226109.79837129, -226109.79837129,\n",
      "       -226109.79837129, -226109.79837129, -226109.79837129,\n",
      "       -226109.79837129, -226109.79837129, -226109.79837129,\n",
      "       -226109.79837129, -226109.79837129, -226109.79837129,\n",
      "       -226109.79837129, -226109.79837129, -226109.79837129,\n",
      "       -226109.79837129, -226109.79837129, -226109.79837129,\n",
      "       -226109.79837129, -226109.79837129, -226109.79837129,\n",
      "       -226109.79837129, -226109.79837129, -226109.79837129,\n",
      "       -226109.79837129, -226109.79837129, -226109.79837129,\n",
      "       -226109.79837129, -226109.79837129, -226109.79837129,\n",
      "       -226109.79837129, -226109.79837129, -226109.79837129,\n",
      "       -226109.79837129, -226109.79837129, -226109.79837129,\n",
      "       -226109.79837129, -226109.79837129, -226109.79837129,\n",
      "       -226109.79837129, -226109.79837129, -226109.79837129,\n",
      "       -226109.79837129, -226109.79837129, -226109.79837129,\n",
      "       -226109.79837129, -226109.79837129, -226109.79837129,\n",
      "       -226109.79837129, -226109.79837129, -226109.79837129,\n",
      "       -226109.79837129, -226109.79837129, -226109.79837129,\n",
      "       -226109.79837129, -226109.79837129, -226109.79837129,\n",
      "       -226109.79837129, -226109.79837129, -226109.79837129,\n",
      "       -226109.79837129, -226109.79837129, -226109.79837129,\n",
      "       -226109.79837129, -226109.79837129, -226109.79837129,\n",
      "       -226109.79837129, -226109.79837129, -226109.79837129,\n",
      "       -226109.79837129, -226109.79837129, -226109.79837129,\n",
      "       -226109.79837129, -226109.79837129, -226109.79837129,\n",
      "       -226109.79837129, -226109.79837129, -226109.79837129,\n",
      "       -226109.79837129, -226109.79837129, -226109.79837129,\n",
      "       -226109.79837129, -226109.79837129, -226109.79837129,\n",
      "       -226109.79837129, -226109.79837129, -226109.79837129,\n",
      "       -226109.79837129, -226109.79837129, -226109.79837129,\n",
      "       -226109.79837129, -226109.79837129, -226109.79837129,\n",
      "       -226109.79837129, -226109.79837129, -226109.79837129,\n",
      "       -226109.79837129, -226109.79837129, -226109.79837129,\n",
      "       -226109.79837129, -226109.79837129, -226109.79837129,\n",
      "       -226109.79837129, -226109.79837129, -226109.79837129,\n",
      "       -226109.79837129, -226109.79837129, -226109.79837129,\n",
      "       -226109.79837129, -226109.79837129, -226109.79837129,\n",
      "       -226109.79837129, -226109.79837129, -226109.79837129,\n",
      "       -226109.79837129, -226109.79837129, -226109.79837129,\n",
      "       -226109.79837129, -226109.79837129, -226109.79837129,\n",
      "       -226109.79837129, -226109.79837129, -226109.79837129,\n",
      "       -226109.79837129, -226109.79837129, -226109.79837129,\n",
      "       -226109.79837129, -226109.79837129, -226109.79837129,\n",
      "       -226109.79837129, -226109.79837129, -226109.79837129,\n",
      "       -226109.79837129, -226109.79837129, -226109.79837129,\n",
      "       -226109.79837129, -226109.79837129, -226109.79837129,\n",
      "       -226109.79837129, -226109.79837129, -226109.79837129,\n",
      "       -226109.79837129, -226109.79837129, -226109.79837129,\n",
      "       -226109.79837129, -226109.79837129, -226109.79837129,\n",
      "       -226109.79837129, -226109.79837129, -226109.79837129,\n",
      "       -226109.79837129, -226109.79837129, -226109.79837129,\n",
      "       -226109.79837129, -226109.79837129, -226109.79837129,\n",
      "       -226109.79837129, -226109.79837129, -226109.79837129,\n",
      "       -226109.79837129, -226109.79837129, -226109.79837129,\n",
      "       -226109.79837129, -226109.79837129, -226109.79837129,\n",
      "       -226109.79837129, -226109.79837129, -226109.79837129,\n",
      "       -226109.79837129, -226109.79837129, -226109.79837129,\n",
      "       -226109.79837129, -226109.79837129, -226109.79837129,\n",
      "       -226109.79837129, -226109.79837129, -226109.79837129,\n",
      "       -226109.79837129, -226109.79837129, -226109.79837129,\n",
      "       -226109.79837129, -226109.79837129, -226109.79837129,\n",
      "       -226109.79837129, -226109.79837129, -226109.79837129,\n",
      "       -226109.79837129, -226109.79837129, -226109.79837129,\n",
      "       -226109.79837129, -226109.79837129, -226109.79837129,\n",
      "       -226109.79837129, -226109.79837129, -226109.79837129,\n",
      "       -226109.79837129, -226109.79837129, -226109.79837129,\n",
      "       -226109.79837129, -226109.79837129, -226109.79837129,\n",
      "       -226109.79837129, -226109.79837129, -226109.79837129,\n",
      "       -226109.79837129, -226109.79837129, -226109.79837129,\n",
      "       -226109.79837129, -226109.79837129, -226109.79837129,\n",
      "       -226109.79837129, -226109.79837129, -226109.79837129,\n",
      "       -226109.79837129, -226109.79837129, -226109.79837129,\n",
      "       -226109.79837129, -226109.79837129, -226109.79837129,\n",
      "       -226109.79837129, -226109.79837129, -226109.79837129,\n",
      "       -226109.79837129, -226109.79837129, -226109.79837129,\n",
      "       -226109.79837129, -226109.79837129, -226109.79837129,\n",
      "       -226109.79837129, -226109.79837129, -226109.79837129,\n",
      "       -226109.79837129, -226109.79837129, -226109.79837129,\n",
      "       -226109.79837129, -226109.79837129, -226109.79837129,\n",
      "       -226109.79837129, -226109.79837129, -226109.79837129,\n",
      "       -226109.79837129, -226109.79837129, -226109.79837129,\n",
      "       -226109.79837129, -226109.79837129, -226109.79837129,\n",
      "       -226109.79837129, -226109.79837129, -226109.79837129,\n",
      "       -226109.79837129, -226109.79837129, -226109.79837129,\n",
      "       -226109.79837129, -226109.79837129, -226109.79837129,\n",
      "       -226109.79837129, -226109.79837129, -226109.79837129,\n",
      "       -226109.79837129, -226109.79837129, -226109.79837129,\n",
      "       -226109.79837129, -226109.79837129, -226109.79837129,\n",
      "       -226109.79837129, -226109.79837129, -226109.79837129,\n",
      "       -226109.79837129, -226109.79837129, -226109.79837129,\n",
      "       -226109.79837129, -226109.79837129, -226109.79837129,\n",
      "       -226109.79837129, -226109.79837129, -226109.79837129,\n",
      "       -226109.79837129, -226109.79837129, -226109.79837129,\n",
      "       -226109.79837129, -226109.79837129, -226109.79837129,\n",
      "       -226109.79837129, -226109.79837129, -226109.79837129,\n",
      "       -226109.79837129, -226109.79837129, -226109.79837129,\n",
      "       -226109.79837129, -226109.79837129, -226109.79837129,\n",
      "       -226109.79837129, -226109.79837129, -226109.79837129,\n",
      "       -226109.79837129, -226109.79837129, -226109.79837129,\n",
      "       -226109.79837129, -226109.79837129, -226109.79837129,\n",
      "       -226109.79837129, -226109.79837129, -226109.79837129,\n",
      "       -226109.79837129, -226109.79837129, -226109.79837129,\n",
      "       -226109.79837129, -226109.79837129, -226109.79837129,\n",
      "       -226109.79837129, -226109.79837129, -226109.79837129,\n",
      "       -226109.79837129, -226109.79837129, -226109.79837129,\n",
      "       -226109.79837129, -226109.79837129, -226109.79837129,\n",
      "       -226109.79837129, -226109.79837129, -226109.79837129,\n",
      "       -226109.79837129, -226109.79837129, -226109.79837129,\n",
      "       -226109.79837129, -226109.79837129, -226109.79837129,\n",
      "       -226109.79837129, -226109.79837129, -226109.79837129,\n",
      "       -226109.79837129, -226109.79837129, -226109.79837129,\n",
      "       -226109.79837129, -226109.79837129, -226109.79837129,\n",
      "       -226109.79837129, -226109.79837129, -226109.79837129,\n",
      "       -226109.79837129, -226109.79837129, -226109.79837129,\n",
      "       -226109.79837129, -226109.79837129, -226109.79837129,\n",
      "       -226109.79837129, -226109.79837129, -226109.79837129,\n",
      "       -226109.79837129, -226109.79837129, -226109.79837129,\n",
      "       -226109.79837129, -226109.79837129, -226109.79837129,\n",
      "       -226109.79837129, -226109.79837129, -226109.79837129,\n",
      "       -226109.79837129, -226109.79837129, -226109.79837129,\n",
      "       -226109.79837129, -226109.79837129, -226109.79837129,\n",
      "       -226109.79837129, -226109.79837129, -226109.79837129,\n",
      "       -226109.79837129, -226109.79837129, -226109.79837129,\n",
      "       -226109.79837129, -226109.79837129, -226109.79837129,\n",
      "       -226109.79837129, -226109.79837129, -226109.79837129,\n",
      "       -226109.79837129, -226109.79837129, -226109.79837129,\n",
      "       -226109.79837129, -226109.79837129, -226109.79837129,\n",
      "       -226109.79837129, -226109.79837129, -226109.79837129,\n",
      "       -226109.79837129, -226109.79837129, -226109.79837129,\n",
      "       -226109.79837129, -226109.79837129, -226109.79837129,\n",
      "       -226109.79837129, -226109.79837129, -226109.79837129,\n",
      "       -226109.79837129, -226109.79837129, -226109.79837129,\n",
      "       -226109.79837129, -226109.79837129, -226109.79837129,\n",
      "       -226109.79837129, -226109.79837129, -226109.79837129,\n",
      "       -226109.79837129, -226109.79837129, -226109.79837129,\n",
      "       -226109.79837129, -226109.79837129, -226109.79837129,\n",
      "       -226109.79837129, -226109.79837129, -226109.79837129,\n",
      "       -226109.79837129, -226109.79837129, -226109.79837129,\n",
      "       -226109.79837129, -226109.79837129, -226109.79837129,\n",
      "       -226109.79837129, -226109.79837129, -226109.79837129,\n",
      "       -226109.79837129, -226109.79837129, -226109.79837129,\n",
      "       -226109.79837129, -226109.79837129, -226109.79837129,\n",
      "       -226109.79837129, -226109.79837129, -226109.79837129,\n",
      "       -226109.79837129, -226109.79837129, -226109.79837129,\n",
      "       -226109.79837129, -226109.79837129, -226109.79837129,\n",
      "       -226109.79837129, -226109.79837129, -226109.79837129,\n",
      "       -226109.79837129, -226109.79837129, -226109.79837129,\n",
      "       -226109.79837129, -226109.79837129, -226109.79837129,\n",
      "       -226109.79837129, -226109.79837129, -226109.79837129,\n",
      "       -226109.79837129, -226109.79837129, -226109.79837129,\n",
      "       -226109.79837129, -226109.79837129, -226109.79837129,\n",
      "       -226109.79837129, -226109.79837129, -226109.79837129,\n",
      "       -226109.79837129, -226109.79837129, -226109.79837129,\n",
      "       -226109.79837129, -226109.79837129, -226109.79837129,\n",
      "       -226109.79837129, -226109.79837129, -226109.79837129,\n",
      "       -226109.79837129, -226109.79837129, -226109.79837129,\n",
      "       -226109.79837129, -226109.79837129, -226109.79837129,\n",
      "       -226109.79837129, -226109.79837129, -226109.79837129,\n",
      "       -226109.79837129, -226109.79837129, -226109.79837129,\n",
      "       -226109.79837129, -226109.79837129, -226109.79837129,\n",
      "       -226109.79837129, -226109.79837129, -226109.79837129,\n",
      "       -226109.79837129, -226109.79837129, -226109.79837129,\n",
      "       -226109.79837129, -226109.79837129, -226109.79837129,\n",
      "       -226109.79837129, -226109.79837129, -226109.79837129,\n",
      "       -226109.79837129]), array([1, 1, 1, 1, 1, 1, 1, 1, 1, 1, 1, 1, 1, 1, 1, 1, 1, 1, 1, 1, 1, 1,\n",
      "       1, 1, 1, 1, 1, 1, 1, 1, 1, 1, 1, 1, 1, 1, 1, 1, 1, 1, 1, 1, 1, 1,\n",
      "       1, 1, 1, 1, 1, 1, 1, 1, 1, 1, 1, 1, 1, 1, 1, 1, 1, 1, 1, 1, 1, 1,\n",
      "       1, 1, 1, 1, 1, 1, 1, 1, 1, 1, 1, 1, 1, 1, 1, 1, 1, 1, 1, 1, 1, 1,\n",
      "       1, 1, 1, 1, 1, 1, 1, 1, 1, 1, 1, 1, 1, 1, 1, 1, 1, 1, 1, 1, 1, 1,\n",
      "       1, 1, 1, 1, 1, 1, 1, 1, 1, 1, 1, 1, 1, 1, 1, 1, 1, 1, 1, 1, 1, 1,\n",
      "       1, 1, 1, 1, 1, 1, 1, 1, 1, 1, 1, 1, 1, 1, 1, 1, 1, 1, 1, 1, 1, 1,\n",
      "       1, 1, 1, 1, 1, 1, 1, 1, 1, 1, 1, 1, 1, 1, 1, 1, 1, 1, 1, 1, 1, 1,\n",
      "       1, 1, 1, 1, 1, 1, 1, 1, 1, 1, 1, 1, 1, 1, 1, 1, 1, 1, 1, 1, 1, 1,\n",
      "       1, 1, 1, 1, 1, 1, 1, 1, 1, 1, 1, 1, 1, 1, 1, 1, 1, 1, 1, 1, 1, 1,\n",
      "       1, 1, 1, 1, 1, 1, 1, 1, 1, 1, 1, 1, 1, 1, 1, 1, 1, 1, 1, 1, 1, 1,\n",
      "       1, 1, 1, 1, 1, 1, 1, 1, 1, 1, 1, 1, 1, 1, 1, 1, 1, 1, 1, 1, 1, 1,\n",
      "       1, 1, 1, 1, 1, 1, 1, 1, 1, 1, 1, 1, 1, 1, 1, 1, 1, 1, 1, 1, 1, 1,\n",
      "       1, 1, 1, 1, 1, 1, 1, 1, 1, 1, 1, 1, 1, 1, 1, 1, 1, 1, 1, 1, 1, 1,\n",
      "       1, 1, 1, 1, 1, 1, 1, 1, 1, 1, 1, 1, 1, 1, 1, 1, 1, 1, 1, 1, 1, 1,\n",
      "       1, 1, 1, 1, 1, 1, 1, 1, 1, 1, 1, 1, 1, 1, 1, 1, 1, 1, 1, 1, 1, 1,\n",
      "       1, 1, 1, 1, 1, 1, 1, 1, 1, 1, 1, 1, 1, 1, 1, 1, 1, 1, 1, 1, 1, 1,\n",
      "       1, 1, 1, 1, 1, 1, 1, 1, 1, 1, 1, 1, 1, 1, 1, 1, 1, 1, 1, 1, 1, 1,\n",
      "       1, 1, 1, 1, 1, 1, 1, 1, 1, 1, 1, 1, 1, 1, 1, 1, 1, 1, 1, 1, 1, 1,\n",
      "       1, 1, 1, 1, 1, 1, 1, 1, 1, 1, 1, 1, 1, 1, 1, 1, 1, 1, 1, 1, 1, 1,\n",
      "       1, 1, 1, 1, 1, 1, 1, 1, 1, 1, 1, 1, 1, 1, 1, 1, 1, 1, 1, 1, 1, 1,\n",
      "       1, 1, 1, 1, 1, 1, 1, 1, 1, 1, 1, 1, 1, 1, 1, 1, 1, 1, 1, 1, 1, 1,\n",
      "       1, 1, 1, 1, 1, 1, 1, 1, 1, 1, 1, 1, 1, 1, 1, 1, 1, 1, 1, 1, 1, 1,\n",
      "       1, 1, 1, 1, 1, 1, 1, 1, 1, 1, 1, 1, 1, 1, 1, 1, 1, 1, 1, 1, 1, 1,\n",
      "       1, 1, 1, 1, 1, 1, 1, 1, 1, 1, 1, 1, 1, 1, 1, 1, 1, 1, 1, 1, 1, 1,\n",
      "       1, 1, 1, 1, 1, 1, 1, 1, 1, 1, 1, 1, 1, 1, 1, 1, 1, 1, 1, 1, 1, 1,\n",
      "       1, 1, 1, 1, 1, 1, 1, 1, 1, 1, 1, 1, 1, 1, 1, 1, 1, 1, 1, 1, 1, 1,\n",
      "       1, 1, 1, 1, 1, 1, 1, 1, 1, 1, 1, 1, 1, 1, 1, 1, 1, 1, 1, 1, 1, 1,\n",
      "       1, 1, 1, 1, 1, 1, 1, 1, 1, 1, 1, 1, 1, 1, 1, 1, 1, 1, 1, 1, 1, 1,\n",
      "       1, 1], dtype=int8)]\n"
     ]
    }
   ],
   "source": [
    "print(test)"
   ]
  },
  {
   "cell_type": "code",
   "execution_count": null,
   "metadata": {},
   "outputs": [],
   "source": []
  }
 ],
 "metadata": {
  "kernelspec": {
   "display_name": "Python 3",
   "language": "python",
   "name": "python3"
  },
  "language_info": {
   "codemirror_mode": {
    "name": "ipython",
    "version": 3
   },
   "file_extension": ".py",
   "mimetype": "text/x-python",
   "name": "python",
   "nbconvert_exporter": "python",
   "pygments_lexer": "ipython3",
   "version": "3.8.6"
  }
 },
 "nbformat": 4,
 "nbformat_minor": 4
}
